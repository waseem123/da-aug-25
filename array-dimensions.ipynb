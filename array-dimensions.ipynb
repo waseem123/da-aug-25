{
 "cells": [
  {
   "cell_type": "code",
   "execution_count": 1,
   "id": "892a8310-6856-44ca-a10f-93b11e77b513",
   "metadata": {},
   "outputs": [],
   "source": [
    "import numpy as np"
   ]
  },
  {
   "cell_type": "code",
   "execution_count": 4,
   "id": "b0712b64-15ba-4e88-bc44-9c1046eb48f0",
   "metadata": {},
   "outputs": [],
   "source": [
    "arr1 = np.array(10)"
   ]
  },
  {
   "cell_type": "code",
   "execution_count": 5,
   "id": "92c4aa0f-1515-4b1d-850b-a93819c2d895",
   "metadata": {},
   "outputs": [
    {
     "data": {
      "text/plain": [
       "array(10)"
      ]
     },
     "execution_count": 5,
     "metadata": {},
     "output_type": "execute_result"
    }
   ],
   "source": [
    "arr1"
   ]
  },
  {
   "cell_type": "code",
   "execution_count": 6,
   "id": "9e80049c-30e0-457f-b45e-42e0b6974383",
   "metadata": {},
   "outputs": [
    {
     "data": {
      "text/plain": [
       "array([100, 200, 300])"
      ]
     },
     "execution_count": 6,
     "metadata": {},
     "output_type": "execute_result"
    }
   ],
   "source": [
    "arr2 = np.array([100,200,300])\n",
    "arr2"
   ]
  },
  {
   "cell_type": "code",
   "execution_count": 7,
   "id": "82638703-70eb-4b5f-ae9e-a2db2dc018f7",
   "metadata": {},
   "outputs": [
    {
     "data": {
      "text/plain": [
       "array([[10, 20, 30]])"
      ]
     },
     "execution_count": 7,
     "metadata": {},
     "output_type": "execute_result"
    }
   ],
   "source": [
    "arr3 = np.array([\n",
    "    [10,20,30]\n",
    "])\n",
    "arr3"
   ]
  },
  {
   "cell_type": "code",
   "execution_count": 8,
   "id": "d228858e-ee6d-48cb-8a54-c0a0b71ea25b",
   "metadata": {},
   "outputs": [
    {
     "data": {
      "text/plain": [
       "array([[[1000, 2000, 3000]]])"
      ]
     },
     "execution_count": 8,
     "metadata": {},
     "output_type": "execute_result"
    }
   ],
   "source": [
    "arr4 = np.array([[[1000,2000,3000]]])\n",
    "arr4"
   ]
  },
  {
   "cell_type": "code",
   "execution_count": 11,
   "id": "6d18d1fe-e0fa-4621-958d-9934aa525063",
   "metadata": {},
   "outputs": [
    {
     "name": "stdout",
     "output_type": "stream",
     "text": [
      "0\n",
      "1\n",
      "2\n",
      "3\n"
     ]
    }
   ],
   "source": [
    "print(arr1.ndim)\n",
    "print(arr2.ndim)\n",
    "print(arr3.ndim)\n",
    "print(arr4.ndim)"
   ]
  },
  {
   "cell_type": "code",
   "execution_count": 21,
   "id": "ad7eb7fe-bdb5-4140-9b43-450cb361e371",
   "metadata": {},
   "outputs": [
    {
     "data": {
      "text/plain": [
       "4"
      ]
     },
     "execution_count": 21,
     "metadata": {},
     "output_type": "execute_result"
    }
   ],
   "source": [
    "arr5 = np.array(\n",
    "    [\n",
    "        [\n",
    "            [\n",
    "                [100,200],\n",
    "                [650,450]\n",
    "            ],\n",
    "            [\n",
    "                [300,400],\n",
    "                [300,400]\n",
    "            ],\n",
    "            [\n",
    "                [500,600],\n",
    "                [500,600]\n",
    "            ]\n",
    "        ]\n",
    "])\n",
    "arr5\n",
    "arr5.ndim"
   ]
  },
  {
   "cell_type": "code",
   "execution_count": 22,
   "id": "e883e641-2d8d-4748-99a9-135c2cf5feed",
   "metadata": {},
   "outputs": [
    {
     "data": {
      "text/plain": [
       "4"
      ]
     },
     "execution_count": 22,
     "metadata": {},
     "output_type": "execute_result"
    }
   ],
   "source": [
    "arr6 = np.array(\n",
    "    [\n",
    "        [\n",
    "            [\n",
    "                [100,200],\n",
    "                [650,450],\n",
    "                [300,400],\n",
    "                [300,400],\n",
    "                [500,600],\n",
    "                [500,600]\n",
    "            ]\n",
    "        ]\n",
    "])\n",
    "arr6\n",
    "arr6.ndim"
   ]
  },
  {
   "cell_type": "code",
   "execution_count": 23,
   "id": "608ee847-81c2-43e6-a2ee-a37dfd132bbe",
   "metadata": {},
   "outputs": [
    {
     "name": "stdout",
     "output_type": "stream",
     "text": [
      "[[[[10 20 30 40 50]]]]\n"
     ]
    },
    {
     "data": {
      "text/plain": [
       "4"
      ]
     },
     "execution_count": 23,
     "metadata": {},
     "output_type": "execute_result"
    }
   ],
   "source": [
    "arr7 = np.array(\n",
    "    [\n",
    "        [\n",
    "            [\n",
    "                [\n",
    "                    10,20,30,40,50\n",
    "                ]\n",
    "            ]\n",
    "        ]\n",
    "    ]\n",
    ")\n",
    "print(arr7)\n",
    "arr7.ndim"
   ]
  },
  {
   "cell_type": "code",
   "execution_count": 36,
   "id": "5204f10b-63f8-4c96-bf8c-bb09120e8a80",
   "metadata": {},
   "outputs": [
    {
     "data": {
      "text/plain": [
       "2"
      ]
     },
     "execution_count": 36,
     "metadata": {},
     "output_type": "execute_result"
    }
   ],
   "source": [
    "myarr = np.array([100,200,300,400,500],ndmin=2)\n",
    "myarr\n",
    "myarr.ndim"
   ]
  },
  {
   "cell_type": "code",
   "execution_count": 39,
   "id": "cbba7fbc-74df-4e25-a9d1-9db2ad78b222",
   "metadata": {},
   "outputs": [
    {
     "name": "stdout",
     "output_type": "stream",
     "text": [
      "[[100 200 300 400 500]]\n"
     ]
    }
   ],
   "source": [
    "print(myarr)"
   ]
  },
  {
   "cell_type": "code",
   "execution_count": null,
   "id": "e1b9e328-bcc8-4d0b-a682-565f6c4cd304",
   "metadata": {},
   "outputs": [],
   "source": [
    "print(myarr[0]) "
   ]
  },
  {
   "cell_type": "code",
   "execution_count": 40,
   "id": "2db83eef-7756-45b8-90c4-77f6de440b66",
   "metadata": {},
   "outputs": [
    {
     "name": "stdout",
     "output_type": "stream",
     "text": [
      "[[10, 20, 30], [40, 50, 60], [70, 80, 90]]\n"
     ]
    }
   ],
   "source": [
    "myarr = [\n",
    "    [10,20,30],\n",
    "    [40,50,60],\n",
    "    [70,80,90]\n",
    "]\n",
    "print(myarr)"
   ]
  },
  {
   "cell_type": "code",
   "execution_count": 41,
   "id": "1b7cf662-24cc-43e6-b23d-fc4b4aaa08fe",
   "metadata": {},
   "outputs": [
    {
     "name": "stdout",
     "output_type": "stream",
     "text": [
      "[10, 20, 30]\n"
     ]
    }
   ],
   "source": [
    "print(myarr[0])"
   ]
  },
  {
   "cell_type": "code",
   "execution_count": 42,
   "id": "d217293c-6790-49cf-8415-d29f13038e31",
   "metadata": {},
   "outputs": [
    {
     "name": "stdout",
     "output_type": "stream",
     "text": [
      "[40, 50, 60]\n"
     ]
    }
   ],
   "source": [
    "print(myarr[1])"
   ]
  },
  {
   "cell_type": "code",
   "execution_count": 43,
   "id": "81da46a2-202a-454c-a1ee-d232e38d32f5",
   "metadata": {},
   "outputs": [
    {
     "name": "stdout",
     "output_type": "stream",
     "text": [
      "[70, 80, 90]\n"
     ]
    }
   ],
   "source": [
    "print(myarr[2])"
   ]
  },
  {
   "cell_type": "code",
   "execution_count": 47,
   "id": "fffb72d5-297a-43f6-822f-c7aa68c8267f",
   "metadata": {},
   "outputs": [
    {
     "name": "stdout",
     "output_type": "stream",
     "text": [
      "3\n",
      "3\n",
      "3\n",
      "3\n"
     ]
    }
   ],
   "source": [
    "print(len(myarr))\n",
    "print(len(myarr[0]))\n",
    "print(len(myarr[1]))\n",
    "print(len(myarr[2]))"
   ]
  }
 ],
 "metadata": {
  "kernelspec": {
   "display_name": "Python [conda env:base] *",
   "language": "python",
   "name": "conda-base-py"
  },
  "language_info": {
   "codemirror_mode": {
    "name": "ipython",
    "version": 3
   },
   "file_extension": ".py",
   "mimetype": "text/x-python",
   "name": "python",
   "nbconvert_exporter": "python",
   "pygments_lexer": "ipython3",
   "version": "3.13.5"
  }
 },
 "nbformat": 4,
 "nbformat_minor": 5
}
