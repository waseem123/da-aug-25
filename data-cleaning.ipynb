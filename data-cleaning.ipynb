{
 "cells": [
  {
   "cell_type": "code",
   "execution_count": 20,
   "id": "3df683d1-f434-4a01-8323-5daff2ed345b",
   "metadata": {},
   "outputs": [],
   "source": [
    "import numpy as np\n",
    "import pandas as pd\n",
    "import matplotlib.pyplot as plt"
   ]
  },
  {
   "cell_type": "code",
   "execution_count": 2,
   "id": "44b1e9dd-ed5e-4af7-9d8f-5e12ae2b0c1c",
   "metadata": {},
   "outputs": [
    {
     "name": "stdout",
     "output_type": "stream",
     "text": [
      "   rollno      name   c  cpp  java  total  percentage grade\n",
      "0       1    Ayesha  75   86    89  250.0       83.33     A\n",
      "1       2   Saadiya  78   87    88  253.0       84.33     A\n",
      "2       3  Tarannum  84   85    89  258.0         NaN   NaN\n",
      "3       4      Uzma  75   84    78  237.0       79.00     B\n",
      "4       5    Saniya  55   41    44  140.0       46.67     D\n",
      "5       6    Alfiya  75   76    77    NaN       76.00   NaN\n",
      "6       7  Tanzeela  48   82    81  211.0       70.33     B\n",
      "7       8    Simran  79   71    72  222.0       74.00     B\n",
      "8       9   Shaheen  61   57    88  206.0         NaN     C\n",
      "9      10   Munizah  91   92    93    NaN       92.00     A\n"
     ]
    }
   ],
   "source": [
    "mydata = pd.read_csv('student-dataset.csv')\n",
    "print(mydata)"
   ]
  },
  {
   "cell_type": "code",
   "execution_count": 8,
   "id": "d83fe149-661c-4243-8f3b-dd0b8e827383",
   "metadata": {},
   "outputs": [
    {
     "data": {
      "text/html": [
       "<div>\n",
       "<style scoped>\n",
       "    .dataframe tbody tr th:only-of-type {\n",
       "        vertical-align: middle;\n",
       "    }\n",
       "\n",
       "    .dataframe tbody tr th {\n",
       "        vertical-align: top;\n",
       "    }\n",
       "\n",
       "    .dataframe thead th {\n",
       "        text-align: right;\n",
       "    }\n",
       "</style>\n",
       "<table border=\"1\" class=\"dataframe\">\n",
       "  <thead>\n",
       "    <tr style=\"text-align: right;\">\n",
       "      <th></th>\n",
       "      <th>rollno</th>\n",
       "      <th>name</th>\n",
       "      <th>c</th>\n",
       "      <th>cpp</th>\n",
       "      <th>java</th>\n",
       "      <th>total</th>\n",
       "      <th>percentage</th>\n",
       "      <th>grade</th>\n",
       "    </tr>\n",
       "  </thead>\n",
       "  <tbody>\n",
       "    <tr>\n",
       "      <th>0</th>\n",
       "      <td>1</td>\n",
       "      <td>Ayesha</td>\n",
       "      <td>75</td>\n",
       "      <td>86</td>\n",
       "      <td>89</td>\n",
       "      <td>250.0</td>\n",
       "      <td>83.33</td>\n",
       "      <td>A</td>\n",
       "    </tr>\n",
       "    <tr>\n",
       "      <th>1</th>\n",
       "      <td>2</td>\n",
       "      <td>Saadiya</td>\n",
       "      <td>78</td>\n",
       "      <td>87</td>\n",
       "      <td>88</td>\n",
       "      <td>253.0</td>\n",
       "      <td>84.33</td>\n",
       "      <td>A</td>\n",
       "    </tr>\n",
       "    <tr>\n",
       "      <th>3</th>\n",
       "      <td>4</td>\n",
       "      <td>Uzma</td>\n",
       "      <td>75</td>\n",
       "      <td>84</td>\n",
       "      <td>78</td>\n",
       "      <td>237.0</td>\n",
       "      <td>79.00</td>\n",
       "      <td>B</td>\n",
       "    </tr>\n",
       "    <tr>\n",
       "      <th>4</th>\n",
       "      <td>5</td>\n",
       "      <td>Saniya</td>\n",
       "      <td>55</td>\n",
       "      <td>41</td>\n",
       "      <td>44</td>\n",
       "      <td>140.0</td>\n",
       "      <td>46.67</td>\n",
       "      <td>D</td>\n",
       "    </tr>\n",
       "    <tr>\n",
       "      <th>6</th>\n",
       "      <td>7</td>\n",
       "      <td>Tanzeela</td>\n",
       "      <td>48</td>\n",
       "      <td>82</td>\n",
       "      <td>81</td>\n",
       "      <td>211.0</td>\n",
       "      <td>70.33</td>\n",
       "      <td>B</td>\n",
       "    </tr>\n",
       "    <tr>\n",
       "      <th>7</th>\n",
       "      <td>8</td>\n",
       "      <td>Simran</td>\n",
       "      <td>79</td>\n",
       "      <td>71</td>\n",
       "      <td>72</td>\n",
       "      <td>222.0</td>\n",
       "      <td>74.00</td>\n",
       "      <td>B</td>\n",
       "    </tr>\n",
       "  </tbody>\n",
       "</table>\n",
       "</div>"
      ],
      "text/plain": [
       "   rollno      name   c  cpp  java  total  percentage grade\n",
       "0       1    Ayesha  75   86    89  250.0       83.33     A\n",
       "1       2   Saadiya  78   87    88  253.0       84.33     A\n",
       "3       4      Uzma  75   84    78  237.0       79.00     B\n",
       "4       5    Saniya  55   41    44  140.0       46.67     D\n",
       "6       7  Tanzeela  48   82    81  211.0       70.33     B\n",
       "7       8    Simran  79   71    72  222.0       74.00     B"
      ]
     },
     "execution_count": 8,
     "metadata": {},
     "output_type": "execute_result"
    }
   ],
   "source": [
    "newdf = mydata.dropna()\n",
    "newdf"
   ]
  },
  {
   "cell_type": "code",
   "execution_count": 3,
   "id": "e2bb8246-7f2f-428c-aed2-385931d08b57",
   "metadata": {},
   "outputs": [
    {
     "data": {
      "text/html": [
       "<div>\n",
       "<style scoped>\n",
       "    .dataframe tbody tr th:only-of-type {\n",
       "        vertical-align: middle;\n",
       "    }\n",
       "\n",
       "    .dataframe tbody tr th {\n",
       "        vertical-align: top;\n",
       "    }\n",
       "\n",
       "    .dataframe thead th {\n",
       "        text-align: right;\n",
       "    }\n",
       "</style>\n",
       "<table border=\"1\" class=\"dataframe\">\n",
       "  <thead>\n",
       "    <tr style=\"text-align: right;\">\n",
       "      <th></th>\n",
       "      <th>rollno</th>\n",
       "      <th>name</th>\n",
       "      <th>c</th>\n",
       "      <th>cpp</th>\n",
       "      <th>java</th>\n",
       "      <th>total</th>\n",
       "      <th>percentage</th>\n",
       "      <th>grade</th>\n",
       "    </tr>\n",
       "  </thead>\n",
       "  <tbody>\n",
       "    <tr>\n",
       "      <th>0</th>\n",
       "      <td>1</td>\n",
       "      <td>Ayesha</td>\n",
       "      <td>75</td>\n",
       "      <td>86</td>\n",
       "      <td>89</td>\n",
       "      <td>250.0</td>\n",
       "      <td>83.33</td>\n",
       "      <td>A</td>\n",
       "    </tr>\n",
       "    <tr>\n",
       "      <th>1</th>\n",
       "      <td>2</td>\n",
       "      <td>Saadiya</td>\n",
       "      <td>78</td>\n",
       "      <td>87</td>\n",
       "      <td>88</td>\n",
       "      <td>253.0</td>\n",
       "      <td>84.33</td>\n",
       "      <td>A</td>\n",
       "    </tr>\n",
       "    <tr>\n",
       "      <th>2</th>\n",
       "      <td>3</td>\n",
       "      <td>Tarannum</td>\n",
       "      <td>84</td>\n",
       "      <td>85</td>\n",
       "      <td>89</td>\n",
       "      <td>258.0</td>\n",
       "      <td>NaN</td>\n",
       "      <td>NaN</td>\n",
       "    </tr>\n",
       "    <tr>\n",
       "      <th>3</th>\n",
       "      <td>4</td>\n",
       "      <td>Uzma</td>\n",
       "      <td>75</td>\n",
       "      <td>84</td>\n",
       "      <td>78</td>\n",
       "      <td>237.0</td>\n",
       "      <td>79.00</td>\n",
       "      <td>B</td>\n",
       "    </tr>\n",
       "    <tr>\n",
       "      <th>4</th>\n",
       "      <td>5</td>\n",
       "      <td>Saniya</td>\n",
       "      <td>55</td>\n",
       "      <td>41</td>\n",
       "      <td>44</td>\n",
       "      <td>140.0</td>\n",
       "      <td>46.67</td>\n",
       "      <td>D</td>\n",
       "    </tr>\n",
       "    <tr>\n",
       "      <th>5</th>\n",
       "      <td>6</td>\n",
       "      <td>Alfiya</td>\n",
       "      <td>75</td>\n",
       "      <td>76</td>\n",
       "      <td>77</td>\n",
       "      <td>NaN</td>\n",
       "      <td>76.00</td>\n",
       "      <td>NaN</td>\n",
       "    </tr>\n",
       "    <tr>\n",
       "      <th>6</th>\n",
       "      <td>7</td>\n",
       "      <td>Tanzeela</td>\n",
       "      <td>48</td>\n",
       "      <td>82</td>\n",
       "      <td>81</td>\n",
       "      <td>211.0</td>\n",
       "      <td>70.33</td>\n",
       "      <td>B</td>\n",
       "    </tr>\n",
       "    <tr>\n",
       "      <th>7</th>\n",
       "      <td>8</td>\n",
       "      <td>Simran</td>\n",
       "      <td>79</td>\n",
       "      <td>71</td>\n",
       "      <td>72</td>\n",
       "      <td>222.0</td>\n",
       "      <td>74.00</td>\n",
       "      <td>B</td>\n",
       "    </tr>\n",
       "    <tr>\n",
       "      <th>8</th>\n",
       "      <td>9</td>\n",
       "      <td>Shaheen</td>\n",
       "      <td>61</td>\n",
       "      <td>57</td>\n",
       "      <td>88</td>\n",
       "      <td>206.0</td>\n",
       "      <td>NaN</td>\n",
       "      <td>C</td>\n",
       "    </tr>\n",
       "    <tr>\n",
       "      <th>9</th>\n",
       "      <td>10</td>\n",
       "      <td>Munizah</td>\n",
       "      <td>91</td>\n",
       "      <td>92</td>\n",
       "      <td>93</td>\n",
       "      <td>NaN</td>\n",
       "      <td>92.00</td>\n",
       "      <td>A</td>\n",
       "    </tr>\n",
       "  </tbody>\n",
       "</table>\n",
       "</div>"
      ],
      "text/plain": [
       "   rollno      name   c  cpp  java  total  percentage grade\n",
       "0       1    Ayesha  75   86    89  250.0       83.33     A\n",
       "1       2   Saadiya  78   87    88  253.0       84.33     A\n",
       "2       3  Tarannum  84   85    89  258.0         NaN   NaN\n",
       "3       4      Uzma  75   84    78  237.0       79.00     B\n",
       "4       5    Saniya  55   41    44  140.0       46.67     D\n",
       "5       6    Alfiya  75   76    77    NaN       76.00   NaN\n",
       "6       7  Tanzeela  48   82    81  211.0       70.33     B\n",
       "7       8    Simran  79   71    72  222.0       74.00     B\n",
       "8       9   Shaheen  61   57    88  206.0         NaN     C\n",
       "9      10   Munizah  91   92    93    NaN       92.00     A"
      ]
     },
     "execution_count": 3,
     "metadata": {},
     "output_type": "execute_result"
    }
   ],
   "source": [
    "mydata"
   ]
  },
  {
   "cell_type": "code",
   "execution_count": 4,
   "id": "ba2bede4-11c0-4eaa-9a4f-b73bfd65dd45",
   "metadata": {},
   "outputs": [
    {
     "data": {
      "text/html": [
       "<div>\n",
       "<style scoped>\n",
       "    .dataframe tbody tr th:only-of-type {\n",
       "        vertical-align: middle;\n",
       "    }\n",
       "\n",
       "    .dataframe tbody tr th {\n",
       "        vertical-align: top;\n",
       "    }\n",
       "\n",
       "    .dataframe thead th {\n",
       "        text-align: right;\n",
       "    }\n",
       "</style>\n",
       "<table border=\"1\" class=\"dataframe\">\n",
       "  <thead>\n",
       "    <tr style=\"text-align: right;\">\n",
       "      <th></th>\n",
       "      <th>rollno</th>\n",
       "      <th>name</th>\n",
       "      <th>c</th>\n",
       "      <th>cpp</th>\n",
       "      <th>java</th>\n",
       "      <th>total</th>\n",
       "      <th>percentage</th>\n",
       "      <th>grade</th>\n",
       "    </tr>\n",
       "  </thead>\n",
       "  <tbody>\n",
       "    <tr>\n",
       "      <th>0</th>\n",
       "      <td>1</td>\n",
       "      <td>Ayesha</td>\n",
       "      <td>75</td>\n",
       "      <td>86</td>\n",
       "      <td>89</td>\n",
       "      <td>250</td>\n",
       "      <td>83.333333</td>\n",
       "      <td>A</td>\n",
       "    </tr>\n",
       "    <tr>\n",
       "      <th>1</th>\n",
       "      <td>2</td>\n",
       "      <td>Saadiya</td>\n",
       "      <td>78</td>\n",
       "      <td>87</td>\n",
       "      <td>88</td>\n",
       "      <td>253</td>\n",
       "      <td>84.333333</td>\n",
       "      <td>A</td>\n",
       "    </tr>\n",
       "    <tr>\n",
       "      <th>2</th>\n",
       "      <td>3</td>\n",
       "      <td>Tarannum</td>\n",
       "      <td>84</td>\n",
       "      <td>85</td>\n",
       "      <td>89</td>\n",
       "      <td>258</td>\n",
       "      <td>86.000000</td>\n",
       "      <td>A</td>\n",
       "    </tr>\n",
       "    <tr>\n",
       "      <th>3</th>\n",
       "      <td>4</td>\n",
       "      <td>Uzma</td>\n",
       "      <td>75</td>\n",
       "      <td>84</td>\n",
       "      <td>78</td>\n",
       "      <td>237</td>\n",
       "      <td>79.000000</td>\n",
       "      <td>B</td>\n",
       "    </tr>\n",
       "    <tr>\n",
       "      <th>4</th>\n",
       "      <td>5</td>\n",
       "      <td>Saniya</td>\n",
       "      <td>55</td>\n",
       "      <td>41</td>\n",
       "      <td>44</td>\n",
       "      <td>140</td>\n",
       "      <td>46.666667</td>\n",
       "      <td>D</td>\n",
       "    </tr>\n",
       "    <tr>\n",
       "      <th>5</th>\n",
       "      <td>6</td>\n",
       "      <td>Alfiya</td>\n",
       "      <td>75</td>\n",
       "      <td>76</td>\n",
       "      <td>77</td>\n",
       "      <td>228</td>\n",
       "      <td>76.000000</td>\n",
       "      <td>B</td>\n",
       "    </tr>\n",
       "    <tr>\n",
       "      <th>6</th>\n",
       "      <td>7</td>\n",
       "      <td>Tanzeela</td>\n",
       "      <td>48</td>\n",
       "      <td>82</td>\n",
       "      <td>81</td>\n",
       "      <td>211</td>\n",
       "      <td>70.333333</td>\n",
       "      <td>B</td>\n",
       "    </tr>\n",
       "    <tr>\n",
       "      <th>7</th>\n",
       "      <td>8</td>\n",
       "      <td>Simran</td>\n",
       "      <td>79</td>\n",
       "      <td>71</td>\n",
       "      <td>72</td>\n",
       "      <td>222</td>\n",
       "      <td>74.000000</td>\n",
       "      <td>B</td>\n",
       "    </tr>\n",
       "    <tr>\n",
       "      <th>8</th>\n",
       "      <td>9</td>\n",
       "      <td>Shaheen</td>\n",
       "      <td>61</td>\n",
       "      <td>57</td>\n",
       "      <td>88</td>\n",
       "      <td>206</td>\n",
       "      <td>68.666667</td>\n",
       "      <td>C</td>\n",
       "    </tr>\n",
       "    <tr>\n",
       "      <th>9</th>\n",
       "      <td>10</td>\n",
       "      <td>Munizah</td>\n",
       "      <td>91</td>\n",
       "      <td>92</td>\n",
       "      <td>93</td>\n",
       "      <td>276</td>\n",
       "      <td>92.000000</td>\n",
       "      <td>A</td>\n",
       "    </tr>\n",
       "  </tbody>\n",
       "</table>\n",
       "</div>"
      ],
      "text/plain": [
       "   rollno      name   c  cpp  java  total  percentage grade\n",
       "0       1    Ayesha  75   86    89    250   83.333333     A\n",
       "1       2   Saadiya  78   87    88    253   84.333333     A\n",
       "2       3  Tarannum  84   85    89    258   86.000000     A\n",
       "3       4      Uzma  75   84    78    237   79.000000     B\n",
       "4       5    Saniya  55   41    44    140   46.666667     D\n",
       "5       6    Alfiya  75   76    77    228   76.000000     B\n",
       "6       7  Tanzeela  48   82    81    211   70.333333     B\n",
       "7       8    Simran  79   71    72    222   74.000000     B\n",
       "8       9   Shaheen  61   57    88    206   68.666667     C\n",
       "9      10   Munizah  91   92    93    276   92.000000     A"
      ]
     },
     "execution_count": 4,
     "metadata": {},
     "output_type": "execute_result"
    }
   ],
   "source": [
    "mydata['total'] = mydata['c'] + mydata['cpp']+mydata['java']\n",
    "mydata['percentage'] = mydata['total']/3\n",
    "\n",
    "def calculateGrade(i):\n",
    "    if i >= 80:\n",
    "        return 'A'\n",
    "    elif i >= 70:\n",
    "          return 'B'\n",
    "    elif i >= 60:\n",
    "          return 'C'\n",
    "    else: return 'D'\n",
    "\n",
    "mydata['grade'] = mydata['percentage'].apply(calculateGrade)\n",
    "    \n",
    "mydata"
   ]
  },
  {
   "cell_type": "code",
   "execution_count": 25,
   "id": "9524a479-dde8-4c4c-9568-717fefdd52df",
   "metadata": {},
   "outputs": [
    {
     "data": {
      "text/plain": [
       "grade\n",
       "A    4\n",
       "B    4\n",
       "C    1\n",
       "D    1\n",
       "Name: rollno, dtype: int64"
      ]
     },
     "execution_count": 25,
     "metadata": {},
     "output_type": "execute_result"
    }
   ],
   "source": [
    "gradewisecount = mydata.groupby('grade')['rollno'].count()\n",
    "gradewisecount"
   ]
  },
  {
   "cell_type": "code",
   "execution_count": 33,
   "id": "1aa1a61f-4f1b-4403-b65b-b848646297e5",
   "metadata": {},
   "outputs": [
    {
     "data": {
      "text/plain": [
       "<bound method Series.keys of grade\n",
       "A    4\n",
       "B    4\n",
       "C    1\n",
       "D    1\n",
       "Name: rollno, dtype: int64>"
      ]
     },
     "execution_count": 33,
     "metadata": {},
     "output_type": "execute_result"
    }
   ],
   "source": []
  },
  {
   "cell_type": "code",
   "execution_count": 40,
   "id": "ff49f997-5ca4-4b0d-9616-49fff9ba00dd",
   "metadata": {},
   "outputs": [
    {
     "data": {
      "text/plain": [
       "[<matplotlib.lines.Line2D at 0x238e4511090>]"
      ]
     },
     "execution_count": 40,
     "metadata": {},
     "output_type": "execute_result"
    },
    {
     "data": {
      "image/png": "[encoded data removed]",
      "text/plain": [
       "<Figure size 640x480 with 1 Axes>"
      ]
     },
     "metadata": {},
     "output_type": "display_data"
    }
   ],
   "source": [
    "plt.plot(gradewisecount)"
   ]
  },
  {
   "cell_type": "code",
   "execution_count": 42,
   "id": "8ece3c0b-5acb-436a-bbdf-ace5cf4840ab",
   "metadata": {},
   "outputs": [],
   "source": [
    "gcount = mydata['grade'].value_counts()"
   ]
  },
  {
   "cell_type": "code",
   "execution_count": 48,
   "id": "dea3ff01-3b58-48c7-b52c-e9ec3bbc0ea3",
   "metadata": {},
   "outputs": [
    {
     "data": {
      "text/plain": [
       "Text(0.5, 1.0, 'GRADE-WISE COUNT OF STUDENTS')"
      ]
     },
     "execution_count": 48,
     "metadata": {},
     "output_type": "execute_result"
    },
    {
     "data": {
      "image/png": "[encoded data removed]",
      "text/plain": [
       "<Figure size 600x400 with 1 Axes>"
      ]
     },
     "metadata": {},
     "output_type": "display_data"
    }
   ],
   "source": [
    "plt.figure(figsize=(6,4))\n",
    "gradewisecount.plot(kind='bar',color='skyblue',edgecolor='black')\n",
    "plt.xlabel('GRADE')\n",
    "plt.ylabel('NO. OF. STUDENTS')\n",
    "plt.title('GRADE-WISE COUNT OF STUDENTS')"
   ]
  },
  {
   "cell_type": "code",
   "execution_count": 50,
   "id": "85997939-4b7d-45a6-b5cd-f9e10bf4abee",
   "metadata": {},
   "outputs": [
    {
     "data": {
      "text/plain": [
       "c       72.1\n",
       "cpp     76.1\n",
       "java    79.9\n",
       "dtype: float64"
      ]
     },
     "execution_count": 50,
     "metadata": {},
     "output_type": "execute_result"
    }
   ],
   "source": [
    "subject_wise_average = mydata[['c','cpp','java']].mean()\n",
    "subject_wise_average"
   ]
  },
  {
   "cell_type": "code",
   "execution_count": 55,
   "id": "22ce2e61-6146-4416-84d1-6315d6ecbe02",
   "metadata": {},
   "outputs": [
    {
     "data": {
      "text/plain": [
       "Text(0.5, 1.0, 'SUBJECT WISE AVERAGE RESULT')"
      ]
     },
     "execution_count": 55,
     "metadata": {},
     "output_type": "execute_result"
    },
    {
     "data": {
      "image/png": "[encoded data removed]",
      "text/plain": [
       "<Figure size 400x300 with 1 Axes>"
      ]
     },
     "metadata": {},
     "output_type": "display_data"
    }
   ],
   "source": [
    "plt.figure(figsize = (4,3))\n",
    "subject_wise_average.plot(kind='bar',color='skyblue',edgecolor='black')\n",
    "plt.grid(True)\n",
    "plt.xlabel('SUBJECTS')\n",
    "plt.ylabel('AVERAGE')\n",
    "plt.title('SUBJECT WISE AVERAGE RESULT')"
   ]
  },
  {
   "cell_type": "code",
   "execution_count": 56,
   "id": "cec4f344-da1d-403b-823d-3a216c2f73f1",
   "metadata": {},
   "outputs": [
    {
     "data": {
      "text/html": [
       "<div>\n",
       "<style scoped>\n",
       "    .dataframe tbody tr th:only-of-type {\n",
       "        vertical-align: middle;\n",
       "    }\n",
       "\n",
       "    .dataframe tbody tr th {\n",
       "        vertical-align: top;\n",
       "    }\n",
       "\n",
       "    .dataframe thead th {\n",
       "        text-align: right;\n",
       "    }\n",
       "</style>\n",
       "<table border=\"1\" class=\"dataframe\">\n",
       "  <thead>\n",
       "    <tr style=\"text-align: right;\">\n",
       "      <th></th>\n",
       "      <th>rollno</th>\n",
       "      <th>name</th>\n",
       "      <th>c</th>\n",
       "      <th>cpp</th>\n",
       "      <th>java</th>\n",
       "      <th>total</th>\n",
       "      <th>percentage</th>\n",
       "      <th>grade</th>\n",
       "    </tr>\n",
       "  </thead>\n",
       "  <tbody>\n",
       "    <tr>\n",
       "      <th>0</th>\n",
       "      <td>1</td>\n",
       "      <td>Ayesha</td>\n",
       "      <td>75</td>\n",
       "      <td>86</td>\n",
       "      <td>89</td>\n",
       "      <td>250</td>\n",
       "      <td>83.333333</td>\n",
       "      <td>A</td>\n",
       "    </tr>\n",
       "    <tr>\n",
       "      <th>1</th>\n",
       "      <td>2</td>\n",
       "      <td>Saadiya</td>\n",
       "      <td>78</td>\n",
       "      <td>87</td>\n",
       "      <td>88</td>\n",
       "      <td>253</td>\n",
       "      <td>84.333333</td>\n",
       "      <td>A</td>\n",
       "    </tr>\n",
       "    <tr>\n",
       "      <th>2</th>\n",
       "      <td>3</td>\n",
       "      <td>Tarannum</td>\n",
       "      <td>84</td>\n",
       "      <td>85</td>\n",
       "      <td>89</td>\n",
       "      <td>258</td>\n",
       "      <td>86.000000</td>\n",
       "      <td>A</td>\n",
       "    </tr>\n",
       "    <tr>\n",
       "      <th>3</th>\n",
       "      <td>4</td>\n",
       "      <td>Uzma</td>\n",
       "      <td>75</td>\n",
       "      <td>84</td>\n",
       "      <td>78</td>\n",
       "      <td>237</td>\n",
       "      <td>79.000000</td>\n",
       "      <td>B</td>\n",
       "    </tr>\n",
       "    <tr>\n",
       "      <th>4</th>\n",
       "      <td>5</td>\n",
       "      <td>Saniya</td>\n",
       "      <td>55</td>\n",
       "      <td>41</td>\n",
       "      <td>44</td>\n",
       "      <td>140</td>\n",
       "      <td>46.666667</td>\n",
       "      <td>D</td>\n",
       "    </tr>\n",
       "    <tr>\n",
       "      <th>5</th>\n",
       "      <td>6</td>\n",
       "      <td>Alfiya</td>\n",
       "      <td>75</td>\n",
       "      <td>76</td>\n",
       "      <td>77</td>\n",
       "      <td>228</td>\n",
       "      <td>76.000000</td>\n",
       "      <td>B</td>\n",
       "    </tr>\n",
       "    <tr>\n",
       "      <th>6</th>\n",
       "      <td>7</td>\n",
       "      <td>Tanzeela</td>\n",
       "      <td>48</td>\n",
       "      <td>82</td>\n",
       "      <td>81</td>\n",
       "      <td>211</td>\n",
       "      <td>70.333333</td>\n",
       "      <td>B</td>\n",
       "    </tr>\n",
       "    <tr>\n",
       "      <th>7</th>\n",
       "      <td>8</td>\n",
       "      <td>Simran</td>\n",
       "      <td>79</td>\n",
       "      <td>71</td>\n",
       "      <td>72</td>\n",
       "      <td>222</td>\n",
       "      <td>74.000000</td>\n",
       "      <td>B</td>\n",
       "    </tr>\n",
       "    <tr>\n",
       "      <th>8</th>\n",
       "      <td>9</td>\n",
       "      <td>Shaheen</td>\n",
       "      <td>61</td>\n",
       "      <td>57</td>\n",
       "      <td>88</td>\n",
       "      <td>206</td>\n",
       "      <td>68.666667</td>\n",
       "      <td>C</td>\n",
       "    </tr>\n",
       "    <tr>\n",
       "      <th>9</th>\n",
       "      <td>10</td>\n",
       "      <td>Munizah</td>\n",
       "      <td>91</td>\n",
       "      <td>92</td>\n",
       "      <td>93</td>\n",
       "      <td>276</td>\n",
       "      <td>92.000000</td>\n",
       "      <td>A</td>\n",
       "    </tr>\n",
       "  </tbody>\n",
       "</table>\n",
       "</div>"
      ],
      "text/plain": [
       "   rollno      name   c  cpp  java  total  percentage grade\n",
       "0       1    Ayesha  75   86    89    250   83.333333     A\n",
       "1       2   Saadiya  78   87    88    253   84.333333     A\n",
       "2       3  Tarannum  84   85    89    258   86.000000     A\n",
       "3       4      Uzma  75   84    78    237   79.000000     B\n",
       "4       5    Saniya  55   41    44    140   46.666667     D\n",
       "5       6    Alfiya  75   76    77    228   76.000000     B\n",
       "6       7  Tanzeela  48   82    81    211   70.333333     B\n",
       "7       8    Simran  79   71    72    222   74.000000     B\n",
       "8       9   Shaheen  61   57    88    206   68.666667     C\n",
       "9      10   Munizah  91   92    93    276   92.000000     A"
      ]
     },
     "execution_count": 56,
     "metadata": {},
     "output_type": "execute_result"
    }
   ],
   "source": [
    "mydata"
   ]
  },
  {
   "cell_type": "code",
   "execution_count": 64,
   "id": "55485939-92de-4010-bf12-dd6c34b0940f",
   "metadata": {},
   "outputs": [
    {
     "data": {
      "text/plain": [
       "9     Munizah\n",
       "2    Tarannum\n",
       "1     Saadiya\n",
       "0      Ayesha\n",
       "3        Uzma\n",
       "Name: name, dtype: object"
      ]
     },
     "execution_count": 64,
     "metadata": {},
     "output_type": "execute_result"
    }
   ],
   "source": [
    "top_five=mydata.nlargest(5,'percentage')\n",
    "top_five['name']"
   ]
  },
  {
   "cell_type": "code",
   "execution_count": 72,
   "id": "b6dbd708-78a1-491a-b640-d1f3455c6aaf",
   "metadata": {},
   "outputs": [
    {
     "data": {
      "text/plain": [
       "<BarContainer object of 5 artists>"
      ]
     },
     "execution_count": 72,
     "metadata": {},
     "output_type": "execute_result"
    },
    {
     "data": {
      "image/png": "[encoded data removed]",
      "text/plain": [
       "<Figure size 640x480 with 1 Axes>"
      ]
     },
     "metadata": {},
     "output_type": "display_data"
    }
   ],
   "source": [
    "plt.bar(top_five['name'],top_five['percentage'])\n"
   ]
  },
  {
   "cell_type": "code",
   "execution_count": 75,
   "id": "c132db86-f51f-4e4f-a952-075c658663e5",
   "metadata": {},
   "outputs": [
    {
     "data": {
      "text/plain": [
       "<Axes: >"
      ]
     },
     "execution_count": 75,
     "metadata": {},
     "output_type": "execute_result"
    },
    {
     "data": {
      "text/plain": [
       "<Figure size 400x300 with 0 Axes>"
      ]
     },
     "metadata": {},
     "output_type": "display_data"
    },
    {
     "data": {
      "image/png": "[encoded data removed]",
      "text/plain": [
       "<Figure size 640x480 with 1 Axes>"
      ]
     },
     "metadata": {},
     "output_type": "display_data"
    }
   ],
   "source": [
    "plt.figure(figsize=(4,3))\n",
    "top_five.plot(kind='bar',stacked=True)"
   ]
  }
 ],
 "metadata": {
  "kernelspec": {
   "display_name": "Python [conda env:anaconda3]",
   "language": "python",
   "name": "conda-env-anaconda3-py"
  },
  "language_info": {
   "codemirror_mode": {
    "name": "ipython",
    "version": 3
   },
   "file_extension": ".py",
   "mimetype": "text/x-python",
   "name": "python",
   "nbconvert_exporter": "python",
   "pygments_lexer": "ipython3",
   "version": "3.13.5"
  }
 },
 "nbformat": 4,
 "nbformat_minor": 5
}
